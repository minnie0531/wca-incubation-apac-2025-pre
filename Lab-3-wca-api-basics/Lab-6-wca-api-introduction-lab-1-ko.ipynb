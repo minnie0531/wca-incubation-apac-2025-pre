{
 "cells": [
  {
   "cell_type": "markdown",
   "metadata": {},
   "source": [
    "##### 사전 준비\n",
    "- 실습 노트북의 python 커널 환경을 확인합니다.\n",
    "  - VScode 우측 상단의 python 커널 버전과 터미널에서 사용할 python 버전 정보가 일치하는지 확인합니다.\n",
    "    - python --version\n",
    "    - pip --version\n",
    "\n",
    "- 실습에 사용할 가상환경을 생성합니다.\n",
    "  - cd <REPO-PATH>/Lab-3-wca-api-basics\n",
    "  - python -m venv venv\n",
    "  - source venv/bin/activate\n",
    "\n",
    "- 실습을 시작하기 전에 .env 파일을 생성하고 IAM_APIKEY를 입력하세요 (.env-sample 참고)\n",
    "  - vi .env\n",
    "\n",
    "- 다음 명령어로 필요한 Python 라이브러리를 설치합니다\n",
    "  - pip install -r requirements.txt"
   ]
  },
  {
   "cell_type": "code",
   "execution_count": null,
   "metadata": {},
   "outputs": [],
   "source": [
    "from wca_utils import *"
   ]
  },
  {
   "cell_type": "markdown",
   "metadata": {},
   "source": [
    "### Lab 1.1. Swagger 명세로부터 REST API 생성\n",
    "\n",
    "WCA API에 prompt를 보내 Swagger 명세 파일을 기반으로 Python REST API 코드를 생성합니다. 아래 셀을 실행하면 결과를 확인할 수 있으며, 다른 prompt나 Swagger 명세로 자유롭게 실험해 볼 수 있습니다."
   ]
  },
  {
   "cell_type": "code",
   "execution_count": null,
   "metadata": {},
   "outputs": [],
   "source": [
    "# sample\n",
    "text = \"\"\"Create a minimal Flask API using only @app.route and jsonify, based on the given Swagger:\"\"\"\n",
    "payload = build_basic_prompt_paylod(text)\n",
    "response = call_wca_url(payload=payload, apikey=iam_apikey, file_dict=[\"assets/petstore-minimal.json\"])\n",
    "result = (response['response']['message']['content'])\n",
    "print(result)"
   ]
  },
  {
   "cell_type": "markdown",
   "metadata": {},
   "source": [
    "### Lab 1.2. Python 파일에 대한 설명 생성\n",
    "\n",
    "WCA API를 사용해 sample.py 파일의 내용을 설명합니다. 원하는 prompt나 코드 파일을 활용해 자유롭게 설명을 받아볼 수 있습니다."
   ]
  },
  {
   "cell_type": "code",
   "execution_count": null,
   "metadata": {},
   "outputs": [],
   "source": [
    "text = \"\"\" Generate a simple explanation for the following code:  \"\"\" \n",
    "payload = build_basic_prompt_paylod(text)\n",
    "response = call_wca_url(payload=payload, apikey=iam_apikey, file_dict=[\"assets/sample.py\"]) \n",
    "result = (response['response']['message']['content'])\n",
    "print(result)"
   ]
  },
  {
   "cell_type": "markdown",
   "metadata": {},
   "source": [
    "### Lab 1.3. 단위 테스트 코드 생성\n",
    "\n",
    "WCA API를 사용해 sample.py 파일에 대한 unit test 코드를 생성합니다."
   ]
  },
  {
   "cell_type": "code",
   "execution_count": 15,
   "metadata": {},
   "outputs": [
    {
     "name": "stdout",
     "output_type": "stream",
     "text": [
      "To create a unit test framework for the provided FastAPI application, we'll use the `pytest` library along with `pytest-sqlalchemy` for database operations. First, install the necessary packages:\n",
      "\n",
      "```bash\n",
      "# Assisted by watsonx Code Assistant \n",
      "# watsonx Code Assistant did not check whether this code suggestion might be similar to third party code.\n",
      "pip install pytest pytest-sqlalchemy\n",
      "```\n",
      "\n",
      "Now, create a new file named `test_app.py` and add the following code:\n",
      "\n",
      "```python\n",
      "# Assisted by watsonx Code Assistant \n",
      "# watsonx Code Assistant did not check whether this code suggestion might be similar to third party code.\n",
      "import pytest\n",
      "from fastapi.testclient import TestClient\n",
      "from app.main import app\n",
      "from app.database import SessionLocal, engine\n",
      "from app.models import User\n",
      "from app.schema import UserCreate, UserUpdate\n",
      "\n",
      "# Initialize the database\n",
      "def init_db():\n",
      "    Base.metadata.create_all(bind=engine)\n",
      "\n",
      "# Close the database connection\n",
      "def close_db(session):\n",
      "    session.close()\n",
      "\n",
      "@pytest.fixture(scope=\"function\")\n",
      "def client():\n",
      "    yield TestClient(app)\n",
      "\n",
      "@pytest.fixture(scope=\"function\")\n",
      "def db(scope=\"function\"):\n",
      "    db = SessionLocal()\n",
      "    yield db\n",
      "    close_db(db)\n",
      "\n",
      "@pytest.fixture(scope=\"function\")\n",
      "def user_db(db):\n",
      "    init_db()\n",
      "    user = User(name=\"Test User\", email=\"test@example.com\", password=\"password\")\n",
      "    db.add(user)\n",
      "    db.commit()\n",
      "    db.refresh(user)\n",
      "    return user\n",
      "\n",
      "def test_get_all_users(client):\n",
      "    response = client.get(\"/users/\")\n",
      "    assert response.status_code == 200\n",
      "    assert len(response.json()) > 0\n",
      "\n",
      "def test_get_user_by_email(client, user_db):\n",
      "    response = client.get(f\"/users/{user_db.id}\")\n",
      "    assert response.status_code == 200\n",
      "    assert response.json() == {\n",
      "        \"id\": user_db.id,\n",
      "        \"name\": user_db.name,\n",
      "        \"email\": user_db.email,\n",
      "    }\n",
      "\n",
      "def test_create_user(client, db):\n",
      "    new_user = UserCreate(name=\"New User\", email=\"new@example.com\", password=\"newpassword\")\n",
      "    response = client.post(\"/users/\", json=new_user.dict())\n",
      "    assert response.status_code == 200\n",
      "    assert response.json() == {\n",
      "        \"id\": new_user.id,\n",
      "        \"name\": new_user.name,\n",
      "        \"email\": new_user.email,\n",
      "    }\n",
      "    user = db.query(User).filter(User.email == new_user.email).first()\n",
      "    assert user.name == new_user.name\n",
      "\n",
      "def test_update_user(client, user_db):\n",
      "    updated_user = UserUpdate(name=\"Updated User\", email=\"updated@example.com\")\n",
      "    response = client.put(f\"/users/{user_db.id}\", json=updated_user.dict())\n",
      "    assert response.status_code == 200\n",
      "    assert response.json() == {\"message\": \"User updated successfully\"}\n",
      "    user = db.query(User).filter(User.id == user_db.id).first()\n",
      "    assert user.name == updated_user.name\n",
      "    assert user.email == updated_user.email\n",
      "\n",
      "def test_delete_user(client, user_db):\n",
      "    response = client.delete(f\"/users/{user_db.id}\")\n",
      "    assert response.status_code == 200\n",
      "    assert response.json() == {\"message\": \"User deleted successfully\"}\n",
      "    user = db.query(User).filter(User.id == user_db.id).first()\n",
      "    assert user is None\n",
      "```\n",
      "\n",
      "This test file includes tests for each endpoint in the application, ensuring that they behave as expected. The `user_db` fixture creates a test user before each test that requires it, and the `db` fixture initializes and closes the database connection for each test.\n",
      "\n",
      "To run the tests, execute the following command:\n",
      "\n",
      "```bash\n",
      "# Assisted by watsonx Code Assistant \n",
      "# watsonx Code Assistant did not check whether this code suggestion might be similar to third party code.\n",
      "pytest test_app.py\n",
      "```\n",
      "\n",
      "This will run all the tests in the `test_app.py` file and display the results.\n"
     ]
    }
   ],
   "source": [
    "text = \"\"\" Generate unit test framework for the following code: \"\"\" \n",
    "payload = build_basic_prompt_paylod(text)\n",
    "response = call_wca_url(payload=payload, apikey=iam_apikey, file_dict=[\"assets/sample.py\"]) \n",
    "result = (response['response']['message']['content'])\n",
    "print(result)"
   ]
  }
 ],
 "metadata": {
  "kernelspec": {
   "display_name": "Python 3",
   "language": "python",
   "name": "python3"
  },
  "language_info": {
   "codemirror_mode": {
    "name": "ipython",
    "version": 3
   },
   "file_extension": ".py",
   "mimetype": "text/x-python",
   "name": "python",
   "nbconvert_exporter": "python",
   "pygments_lexer": "ipython3",
   "version": "3.11.11"
  }
 },
 "nbformat": 4,
 "nbformat_minor": 2
}
