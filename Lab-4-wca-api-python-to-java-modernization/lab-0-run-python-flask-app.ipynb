{
 "cells": [
  {
   "cell_type": "markdown",
   "metadata": {},
   "source": [
    "#### Open terminal\n",
    "\n",
    "1. Python이 설치되어 있는지 확인하세요:\n",
    "    - python --version\n",
    "    - python3 --version\n",
    "\n",
    "2. 설치되어 있지 않다면 Python을 설치하세요:\n",
    "    - macOS (https://www.python.org/downloads/macos/)\n",
    "    - windows (https://www.python.org/downloads/windows/)\n",
    "\n",
    "3. Flask를 설치하세요:\n",
    "    - pip install flask\n",
    "\n",
    "4. **python-todo-app** 디렉토리로 이동하세요:\n",
    "    - cd <path/to/dir>/5-wca-api-python-to-java-migration/python-todo-app\n",
    "\n",
    "5. 애플리케이션을 시작하세요:\n",
    "    - python3 app.py \n",
    "\n",
    "6. 브라우저에서 다음 URL을 여세요:\n",
    "    - http://127.0.0.1:5000\n",
    "\n",
    "7. Flask 앱이 실행되면 아래와 같은 todo 리스트 앱이 보일 것입니다:\n",
    "\n",
    "    - <img src=\"./images/python-todo-app.png\" width=\"200\">\n",
    "\n",
    "8. 새로운 작업을 추가하면, tasks.json 파일이 업데이트되는 것을 볼 수 있습니다. 해당 파일의 위치는 다음과 같습니다:\n",
    "    - ./python-todo-app/tasks.json\n",
    "\n",
    "이제 우리는 **lab-1-wca-api-migration.ipynb**에서 이 앱을 Python 기반 Flask 프레임워크에서 Spring Boot와 WCA API를 사용하는 현대적인 앱으로 마이그레이션할 것입니다.\n",
    "\n",
    "\n"
   ]
  },
  {
   "cell_type": "markdown",
   "metadata": {},
   "source": [
    "#### "
   ]
  }
 ],
 "metadata": {
  "kernelspec": {
   "display_name": "Python 3",
   "language": "python",
   "name": "python3"
  },
  "language_info": {
   "codemirror_mode": {
    "name": "ipython",
    "version": 3
   },
   "file_extension": ".py",
   "mimetype": "text/x-python",
   "name": "python",
   "nbconvert_exporter": "python",
   "pygments_lexer": "ipython3",
   "version": "3.11.6"
  }
 },
 "nbformat": 4,
 "nbformat_minor": 2
}
